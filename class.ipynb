{
 "cells": [
  {
   "cell_type": "code",
   "execution_count": 18,
   "metadata": {},
   "outputs": [],
   "source": [
    "# Uer-Defined Data Structure \n",
    "#  OOP"
   ]
  },
  {
   "cell_type": "code",
   "execution_count": 19,
   "metadata": {},
   "outputs": [],
   "source": [
    "class Student:\n",
    "    pass"
   ]
  },
  {
   "cell_type": "code",
   "execution_count": 20,
   "metadata": {},
   "outputs": [
    {
     "data": {
      "text/plain": [
       "False"
      ]
     },
     "execution_count": 20,
     "metadata": {},
     "output_type": "execute_result"
    }
   ],
   "source": [
    "#  Instance \n",
    "# s1 is an object\n",
    "# instansiate class\n",
    "# methods ---> class Functions \n",
    "\n",
    "# aaa  ____ aaaaa ____ aaaaaa ______ aaaaa. \n",
    "\n",
    "s1 = Student()\n",
    "s2 = Student()\n",
    "\n",
    "s1 == s2"
   ]
  },
  {
   "cell_type": "code",
   "execution_count": 21,
   "metadata": {},
   "outputs": [],
   "source": [
    "# attribute\n",
    "    # class attribute\n",
    "    # instance attribute  \n",
    "\n",
    "class Car:\n",
    "\n",
    "    # class attribute\n",
    "    type = \"Coupe\"\n",
    "\n",
    "    #  insatnce attribute\n",
    "    def __init__(self, brand, model, color=\"Black\"):\n",
    "        self.brand = brand\n",
    "        self.model = model\n",
    "        self.color = color\n",
    "        self.gas_tank_size = 100\n",
    "        self._fuel_level = 0\n",
    "    \n",
    "    def __str__(self):\n",
    "        return \"({}) {} - {} : {}\".format(self.type, self.brand, self.model, self.color)\n",
    "\n",
    "    def fuel_up(self):\n",
    "        self.fuel_level = self.gas_tank_size\n",
    "        print(\"Gas tank is full\")\n",
    "\n",
    "    def update_fuel_level(self, new_level):\n",
    "        if  new_level <= self.gas_tank_size:\n",
    "            self.fuel_level = new_level\n",
    "        else:\n",
    "            print(\"Exceeded gas tank size\")\n",
    "        "
   ]
  },
  {
   "cell_type": "code",
   "execution_count": 22,
   "metadata": {},
   "outputs": [
    {
     "data": {
      "text/plain": [
       "True"
      ]
     },
     "execution_count": 22,
     "metadata": {},
     "output_type": "execute_result"
    }
   ],
   "source": [
    "c1 = Car(\"Benz\", \"S3\", \"Black\")\n",
    "c1.type\n",
    "c2 = Car(\"Benz\", \"S200\", \"Silver\")\n",
    "\n",
    "c2.type == c1.type"
   ]
  },
  {
   "cell_type": "code",
   "execution_count": 23,
   "metadata": {},
   "outputs": [
    {
     "data": {
      "text/plain": [
       "{'brand': 'Benz',\n",
       " 'model': 'S300',\n",
       " 'color': 'Black',\n",
       " 'gas_tank_size': 100,\n",
       " '_fuel_level': 0}"
      ]
     },
     "execution_count": 23,
     "metadata": {},
     "output_type": "execute_result"
    }
   ],
   "source": [
    "c1.model = \"S300\"\n",
    "c1.__dict__"
   ]
  },
  {
   "cell_type": "code",
   "execution_count": 24,
   "metadata": {},
   "outputs": [],
   "source": [
    "c1.type = \"SUV\""
   ]
  },
  {
   "cell_type": "code",
   "execution_count": 25,
   "metadata": {},
   "outputs": [
    {
     "data": {
      "text/plain": [
       "False"
      ]
     },
     "execution_count": 25,
     "metadata": {},
     "output_type": "execute_result"
    }
   ],
   "source": [
    "c1.type == c2.type"
   ]
  },
  {
   "cell_type": "code",
   "execution_count": 26,
   "metadata": {},
   "outputs": [],
   "source": [
    "c3 = Car(\"BMW\", \"A12\")"
   ]
  },
  {
   "cell_type": "code",
   "execution_count": null,
   "metadata": {},
   "outputs": [],
   "source": [
    "for car in [c1,c2,c3]:\n",
    "    print(car.representor())"
   ]
  },
  {
   "cell_type": "code",
   "execution_count": null,
   "metadata": {},
   "outputs": [],
   "source": [
    "c1.representor()\n",
    "c1.fuel_up()"
   ]
  },
  {
   "cell_type": "code",
   "execution_count": 29,
   "metadata": {},
   "outputs": [
    {
     "name": "stdout",
     "output_type": "stream",
     "text": [
      "Exceeded gas tank size\n"
     ]
    }
   ],
   "source": [
    "c1.update_fuel_level(200)"
   ]
  },
  {
   "cell_type": "code",
   "execution_count": 30,
   "metadata": {},
   "outputs": [
    {
     "name": "stdout",
     "output_type": "stream",
     "text": [
      "(SUV) Benz - S300 : Black\n"
     ]
    }
   ],
   "source": [
    "print(c1)"
   ]
  },
  {
   "cell_type": "code",
   "execution_count": 31,
   "metadata": {},
   "outputs": [],
   "source": [
    "# Class Inheritance\n",
    "\n",
    "# Override\n",
    "#TODO get_battery_percentage method\n",
    "\n",
    "\n",
    "class ElectricCar(Car):\n",
    "    \n",
    "    def __init__(self, brand, model, color=\"Red\"):\n",
    "        super().__init__(brand, model, color)\n",
    "        self.battery = Battery(size=350)\n",
    "\n",
    "    def charge(self):\n",
    "        self.battery.charge_level = self.battery.size\n",
    "        print(\"The car is charged\")\n",
    "    \n",
    "    def __str__(self):\n",
    "        return \"({}) {} - {} : {}\\n Battery: {}\".format(self.type, self.brand, self.model, self.color, self.battery.get_percentage())\n",
    "\n",
    "\n",
    "\n",
    "class Battery:\n",
    "\n",
    "    def __init__(self, size=250):\n",
    "        self.size = size\n",
    "        self.charge_level = 0\n",
    "\n",
    "    def get_percentage(self):\n",
    "        return (self.charge_level * 100)/ self.size"
   ]
  },
  {
   "cell_type": "code",
   "execution_count": 32,
   "metadata": {},
   "outputs": [
    {
     "name": "stdout",
     "output_type": "stream",
     "text": [
      "The car is charged\n"
     ]
    }
   ],
   "source": [
    "e1 = ElectricCar(\"Tesla\", \"Model X\")\n",
    "e1.charge()"
   ]
  },
  {
   "cell_type": "code",
   "execution_count": 33,
   "metadata": {},
   "outputs": [
    {
     "name": "stdout",
     "output_type": "stream",
     "text": [
      "(Coupe) Tesla - Model X : Red\n",
      " Battery: 100.0\n"
     ]
    }
   ],
   "source": [
    "print(e1)"
   ]
  },
  {
   "cell_type": "code",
   "execution_count": null,
   "metadata": {},
   "outputs": [],
   "source": []
  }
 ],
 "metadata": {
  "kernelspec": {
   "display_name": "Python 3",
   "language": "python",
   "name": "python3"
  },
  "language_info": {
   "codemirror_mode": {
    "name": "ipython",
    "version": 3
   },
   "file_extension": ".py",
   "mimetype": "text/x-python",
   "name": "python",
   "nbconvert_exporter": "python",
   "pygments_lexer": "ipython3",
   "version": "3.8.5"
  }
 },
 "nbformat": 4,
 "nbformat_minor": 4
}
