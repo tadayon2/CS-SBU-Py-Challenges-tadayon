{
 "cells": [
  {
   "cell_type": "markdown",
   "metadata": {},
   "source": [
    "# python Challenge   -  جواد تدین-99422041"
   ]
  },
  {
   "cell_type": "markdown",
   "metadata": {},
   "source": [
    "# Challenge 1\n",
    "capital indexes"
   ]
  },
  {
   "cell_type": "code",
   "execution_count": 23,
   "metadata": {},
   "outputs": [],
   "source": [
    "def capital_indexes(input_string: str) -> list:\n",
    "    capital_indexes_list = []\n",
    "\n",
    "    for index, i in enumerate(input_string):\n",
    "        if i.isupper():\n",
    "            capital_indexes_list.append(index)\n",
    "\n",
    "    return capital_indexes_list"
   ]
  },
  {
   "cell_type": "markdown",
   "metadata": {},
   "source": [
    "# Challenge 2\n",
    "mid letter"
   ]
  },
  {
   "cell_type": "code",
   "execution_count": 24,
   "metadata": {},
   "outputs": [],
   "source": [
    "def mid(input_string):\n",
    "    input_string_len = len(input_string)\n",
    "    if (input_string_len % 2) == 0:\n",
    "        return(\"\")\n",
    "    else:        \n",
    "        #return input_string[int(((input_string_len + 1) / 2) - 1)]\n",
    "        #floor division\n",
    "        return input_string[input_string_len//2]"
   ]
  },
  {
   "cell_type": "code",
   "execution_count": 25,
   "metadata": {},
   "outputs": [],
   "source": [
    "def mid_one_line(input_string):\n",
    "    input_string_len = len(input_string)\n",
    "    # statement if condition else statement     \n",
    "    return input_string[input_string_len//2] if (input_string_len % 2) != 0 else \"\""
   ]
  },
  {
   "cell_type": "markdown",
   "metadata": {},
   "source": [
    "# Challenge 3\n",
    "online statuses"
   ]
  },
  {
   "cell_type": "code",
   "execution_count": 26,
   "metadata": {},
   "outputs": [
    {
     "name": "stdout",
     "output_type": "stream",
     "text": [
      "python : 3.8\n",
      "ubuntu : 20.04\n"
     ]
    }
   ],
   "source": [
    "#  Dicts in Python\n",
    "d = {\"python\": 3.8, \"ubuntu\": 20.04}\n",
    "type(d)\n",
    "assert d.get(\"pythonx\") == None\n",
    "\n",
    "for key,value in d.items():\n",
    "    print(\"{} : {}\".format(key,value))"
   ]
  },
  {
   "cell_type": "code",
   "execution_count": 27,
   "metadata": {},
   "outputs": [],
   "source": [
    "def online_count(input_dict):\n",
    "    online_count = 0\n",
    "    for value in input_dict.values():\n",
    "        if value == \"online\":\n",
    "            online_count += 1\n",
    "    return online_count"
   ]
  },
  {
   "cell_type": "markdown",
   "metadata": {},
   "source": [
    "# Challenge 4\n",
    "randomness"
   ]
  },
  {
   "cell_type": "code",
   "execution_count": 28,
   "metadata": {},
   "outputs": [
    {
     "data": {
      "text/plain": [
       "1.163409703071291"
      ]
     },
     "execution_count": 28,
     "metadata": {},
     "output_type": "execute_result"
    }
   ],
   "source": [
    "# random library\n",
    "import random\n",
    "\n",
    "# list(range(1,11, 2)\n",
    "\n",
    "random.uniform(1,10.5)"
   ]
  },
  {
   "cell_type": "code",
   "execution_count": 29,
   "metadata": {},
   "outputs": [],
   "source": [
    "import random\n",
    "def random_number():\n",
    "    # return random.randrange(1, 101)\n",
    "    return random.randint(1,100)"
   ]
  },
  {
   "cell_type": "markdown",
   "metadata": {},
   "source": [
    "# Challenge 5\n",
    "type check"
   ]
  },
  {
   "cell_type": "code",
   "execution_count": 30,
   "metadata": {},
   "outputs": [],
   "source": [
    "def only_ints(a, b):\n",
    "    return True if (type(a) == int and type(b) == int) else False"
   ]
  },
  {
   "cell_type": "markdown",
   "metadata": {},
   "source": [
    "# Challenge 6\n",
    "double letters"
   ]
  },
  {
   "cell_type": "code",
   "execution_count": 31,
   "metadata": {},
   "outputs": [],
   "source": [
    "def double_letters(input_string):\n",
    "    if not input_string:\n",
    "        return False\n",
    "    for index, letter in enumerate(input_string):\n",
    "        if letter == input_string[index+1]:\n",
    "            return True\n",
    "        if index == len(input_string) - 2:\n",
    "            return False"
   ]
  },
  {
   "cell_type": "markdown",
   "metadata": {},
   "source": [
    "# Challenge 7\n",
    "adding and removing dots"
   ]
  },
  {
   "cell_type": "code",
   "execution_count": 32,
   "metadata": {},
   "outputs": [],
   "source": [
    "def add_dots(input_string):\n",
    "    return \".\".join(input_string)\n",
    "\n",
    "def remove_dots(input_string):\n",
    "    for i in input_string:\n",
    "        return input_string.replace('.','')"
   ]
  },
  {
   "cell_type": "code",
   "execution_count": 33,
   "metadata": {},
   "outputs": [],
   "source": [
    "add_dots(\"test\")\n",
    "assert remove_dots(add_dots(\"test\")) == \"test\""
   ]
  },
  {
   "cell_type": "markdown",
   "metadata": {},
   "source": [
    "# Challenge 8\n",
    "Counting syllables"
   ]
  },
  {
   "cell_type": "code",
   "execution_count": 34,
   "metadata": {},
   "outputs": [],
   "source": [
    "def count(input_string):\n",
    "    return input_string.count(\"-\") + 1"
   ]
  },
  {
   "cell_type": "code",
   "execution_count": 35,
   "metadata": {},
   "outputs": [],
   "source": [
    "def count(input_string):\n",
    "    return len(input_string.split(\"-\"))"
   ]
  },
  {
   "cell_type": "markdown",
   "metadata": {},
   "source": [
    "# Challenge 9\n",
    "Anagrams"
   ]
  },
  {
   "cell_type": "code",
   "execution_count": 36,
   "metadata": {},
   "outputs": [],
   "source": [
    "def count_letters(string):\n",
    "    return {i:string.count(i) for i in string}\n",
    "\n",
    "    # for i in string:\n",
    "    #     return string.count(i)\n",
    "\n",
    "def is_anagram(a,b):\n",
    "    return count_letters(a) == count_letters(b)\n",
    "    # for i in a:\n",
    "    #     if a.count(i) != b.count(i):\n",
    "    #         return False\n",
    "    # for i in b:\n",
    "    #     if a.count(i) != b.count(i):\n",
    "    #         return False\n",
    "    # return True"
   ]
  },
  {
   "cell_type": "code",
   "execution_count": 37,
   "metadata": {},
   "outputs": [
    {
     "data": {
      "text/plain": [
       "{'a': 2, 'b': 2, 'c': 1}"
      ]
     },
     "execution_count": 37,
     "metadata": {},
     "output_type": "execute_result"
    }
   ],
   "source": [
    "count_letters(\"abcab\")"
   ]
  },
  {
   "cell_type": "markdown",
   "metadata": {},
   "source": [
    "# Challenge 10\n",
    "Flatten a list"
   ]
  },
  {
   "cell_type": "code",
   "execution_count": 38,
   "metadata": {},
   "outputs": [],
   "source": [
    "def flatten(a):\n",
    "    b=[]\n",
    "    for i in a:\n",
    "        for j in i:\n",
    "            b.append(j)\n",
    "    return b"
   ]
  },
  {
   "cell_type": "code",
   "execution_count": 39,
   "metadata": {},
   "outputs": [],
   "source": [
    "# [[1,2], [3,4]]\n",
    "def flatten(lists):\n",
    "    return [i for inner_list in lists for i in inner_list]"
   ]
  },
  {
   "cell_type": "markdown",
   "metadata": {},
   "source": [
    "# Challenge 11\n",
    "Min-Maxing"
   ]
  },
  {
   "cell_type": "code",
   "execution_count": 40,
   "metadata": {},
   "outputs": [],
   "source": [
    "def largest_difference(a):\n",
    "    return max(a)-min(a)"
   ]
  },
  {
   "cell_type": "markdown",
   "metadata": {},
   "source": [
    "# Challenge 12\n",
    "Divisible by 3"
   ]
  },
  {
   "cell_type": "code",
   "execution_count": 41,
   "metadata": {},
   "outputs": [],
   "source": [
    "def div_3(integer):\n",
    "    return integer % 3 == 0"
   ]
  },
  {
   "cell_type": "markdown",
   "metadata": {},
   "source": [
    "# Challenge 13\n",
    "Tic tac toe input"
   ]
  },
  {
   "cell_type": "code",
   "execution_count": 42,
   "metadata": {},
   "outputs": [],
   "source": [
    "# A0, A1, A2, A3\n",
    "# a[0] : string\n",
    "# a[1] : int\n",
    "\n",
    "def get_row_col(a):\n",
    "    mapping = {\"A\": 0, \"B\": 1, \"C\": 2}\n",
    "    return (int(a[0]) -1, mapping[a[1]])"
   ]
  },
  {
   "cell_type": "markdown",
   "metadata": {},
   "source": [
    "# Challenge 14\n",
    "Palindrome"
   ]
  },
  {
   "cell_type": "code",
   "execution_count": 43,
   "metadata": {},
   "outputs": [],
   "source": [
    "def palindrome(a):\n",
    "    # return a == a[::-1]\n",
    "    a_list = list(a)\n",
    "    a_list.reverse()\n",
    "    return list(a) == a_list"
   ]
  },
  {
   "cell_type": "code",
   "execution_count": 44,
   "metadata": {},
   "outputs": [
    {
     "data": {
      "text/plain": [
       "[3, 2, 1]"
      ]
     },
     "execution_count": 44,
     "metadata": {},
     "output_type": "execute_result"
    }
   ],
   "source": [
    "l = [1,2,3]\n",
    "l.reverse()\n",
    "l"
   ]
  },
  {
   "cell_type": "markdown",
   "metadata": {},
   "source": [
    "# Challenge 15\n",
    "Up and down"
   ]
  },
  {
   "cell_type": "code",
   "execution_count": 45,
   "metadata": {},
   "outputs": [],
   "source": [
    "def up_down(input_integer):\n",
    "    return input_integer - 1, input_integer + 1"
   ]
  },
  {
   "cell_type": "markdown",
   "metadata": {},
   "source": [
    "# Challenge 16\n",
    "Consecutive zeros"
   ]
  },
  {
   "cell_type": "code",
   "execution_count": 46,
   "metadata": {},
   "outputs": [],
   "source": [
    "def consecutive_zeros(binary_string):\n",
    "    return max([len(i) for i in binary_string.split(\"1\")])"
   ]
  },
  {
   "cell_type": "code",
   "execution_count": 47,
   "metadata": {},
   "outputs": [
    {
     "data": {
      "text/plain": [
       "3"
      ]
     },
     "execution_count": 47,
     "metadata": {},
     "output_type": "execute_result"
    }
   ],
   "source": [
    "consecutive_zeros(\"1001101000110\")"
   ]
  },
  {
   "cell_type": "markdown",
   "metadata": {},
   "source": [
    "# Challenge 17\n",
    "All equal"
   ]
  },
  {
   "cell_type": "code",
   "execution_count": 48,
   "metadata": {},
   "outputs": [],
   "source": [
    "def all_equal(input_list):\n",
    "    # for i in input_list:\n",
    "    #     for j in input_list:\n",
    "    #         if i != j:\n",
    "    #             return False\n",
    "    # return True\n",
    "    return all([i == input_list[0] for i in input_list])"
   ]
  },
  {
   "cell_type": "code",
   "execution_count": 49,
   "metadata": {},
   "outputs": [
    {
     "data": {
      "text/plain": [
       "[1, 1, 1]"
      ]
     },
     "execution_count": 49,
     "metadata": {},
     "output_type": "execute_result"
    }
   ],
   "source": [
    "l = [1 for i in range(3)]\n",
    "len(l)\n",
    "# l.append(0)\n",
    "l"
   ]
  },
  {
   "cell_type": "code",
   "execution_count": 50,
   "metadata": {},
   "outputs": [
    {
     "data": {
      "text/plain": [
       "True"
      ]
     },
     "execution_count": 50,
     "metadata": {},
     "output_type": "execute_result"
    }
   ],
   "source": [
    "all_equal(l)"
   ]
  },
  {
   "cell_type": "markdown",
   "metadata": {},
   "source": [
    "# Challenge 19\n",
    "Writing short code"
   ]
  },
  {
   "cell_type": "code",
   "execution_count": 51,
   "metadata": {},
   "outputs": [],
   "source": [
    "# [int, int, int] ==map==> [str, str, str] \n",
    "\n",
    "def convert(input_list):\n",
    "    return list(map(str ,input_list))"
   ]
  },
  {
   "cell_type": "code",
   "execution_count": 52,
   "metadata": {},
   "outputs": [
    {
     "data": {
      "text/plain": [
       "['1', '2', '3', '4', '5', '6']"
      ]
     },
     "execution_count": 52,
     "metadata": {},
     "output_type": "execute_result"
    }
   ],
   "source": [
    "convert([1,2,3,4,5,6])\n"
   ]
  },
  {
   "cell_type": "markdown",
   "metadata": {},
   "source": [
    "# Challenge 20\n",
    "Custom zip"
   ]
  },
  {
   "cell_type": "code",
   "execution_count": 53,
   "metadata": {},
   "outputs": [],
   "source": [
    "def zap(a,b):\n",
    "    res = []\n",
    "    for i in range(len(a)):\n",
    "        tup = (a[i], b[i])\n",
    "        res.append(tup)\n",
    "    return res\n",
    "\n",
    "    # return [(a[i], b[i]) for i in range(len(a))]"
   ]
  },
  {
   "cell_type": "markdown",
   "metadata": {},
   "source": [
    "# Challenge 21\n",
    "Solution Validation"
   ]
  },
  {
   "cell_type": "code",
   "execution_count": 54,
   "metadata": {},
   "outputs": [],
   "source": [
    "def validate(code):\n",
    "    if 'def' not in code:\n",
    "        return \"missing def\"\n",
    "    if ':' not in code:\n",
    "        return \"missing :\"\n",
    "    if '(' + ')' in code:\n",
    "        return \"missing param\"\n",
    "    if '(' not in code or ')' not in code:\n",
    "        return \"missing paren\"\n",
    "    if '    ' not in code:\n",
    "        return \"missing indent\"\n",
    "    if 'validate' not in code:\n",
    "        return \"wrong name\"\n",
    "    if 'return' not in code:\n",
    "        return \"missing return\"\n",
    "    return True"
   ]
  },
  {
   "cell_type": "markdown",
   "metadata": {},
   "source": [
    "# Challenge  22\n",
    "list xor"
   ]
  },
  {
   "cell_type": "code",
   "execution_count": 55,
   "metadata": {},
   "outputs": [],
   "source": [
    "def list_xor(n, list1, list2):\n",
    "    # return (n in list1 or n in list2) and (n not in list1 or n not in list2)\n",
    "    return (n in list1) ^ (n in list2)"
   ]
  },
  {
   "cell_type": "markdown",
   "metadata": {},
   "source": [
    "# Challenge 23\n",
    "Counting parameters"
   ]
  },
  {
   "cell_type": "code",
   "execution_count": 56,
   "metadata": {},
   "outputs": [
    {
     "name": "stdout",
     "output_type": "stream",
     "text": [
      "arg1 test\n",
      "arg2 python\n",
      "arg3 0\n"
     ]
    }
   ],
   "source": [
    "def func(input_a:int ,*argv, **kwargs):\n",
    "    for arg in argv:\n",
    "        print(arg)    \n",
    "    for key, value in kwargs.items():\n",
    "        print(key, value)\n",
    "\n",
    "\n",
    "args = {\"test\", \"python\", 0}\n",
    "kwargs = {\"arg1\": \"test\", \"arg2\": \"python\", \"arg3\": 0}\n",
    "\n",
    "\n",
    "func(input_a = 0, **kwargs)\n",
    "\n",
    "# func()"
   ]
  },
  {
   "cell_type": "code",
   "execution_count": 57,
   "metadata": {},
   "outputs": [],
   "source": [
    "def param_count(*a):\n",
    "    return len(a)"
   ]
  },
  {
   "cell_type": "markdown",
   "metadata": {},
   "source": [
    "# Challenge 24\n",
    "Thousands separator"
   ]
  },
  {
   "cell_type": "code",
   "execution_count": 58,
   "metadata": {},
   "outputs": [],
   "source": [
    "def format_number(a):\n",
    "    s=str(a)\n",
    "    r=''\n",
    "    j=0\n",
    "    for i in s[::-1]:\n",
    "        r+=str(i)\n",
    "        j+=1\n",
    "        if j%3==0:\n",
    "            r+=','\n",
    "    if len(s)%3==0:\n",
    "        return r[-2::-1]\n",
    "    return r[::-1]"
   ]
  },
  {
   "cell_type": "code",
   "execution_count": 59,
   "metadata": {},
   "outputs": [],
   "source": [
    "# 1,000,000 ==> 00[0],000,1 ==> 1,000,000\n",
    "def format_number(number):\n",
    "    res = \"\"\n",
    "    for i, num in enumerate(reversed(str(number))):\n",
    "        if i != 0 and (i % 3) == 0:\n",
    "            res += \",\"\n",
    "        res += num\n",
    "    return res[::-1]"
   ]
  },
  {
   "cell_type": "code",
   "execution_count": 60,
   "metadata": {},
   "outputs": [
    {
     "data": {
      "text/plain": [
       "'1,000,000'"
      ]
     },
     "execution_count": 60,
     "metadata": {},
     "output_type": "execute_result"
    }
   ],
   "source": [
    "format_number(1000000)"
   ]
  },
  {
   "cell_type": "code",
   "execution_count": null,
   "metadata": {},
   "outputs": [],
   "source": []
  }
 ],
 "metadata": {
  "kernelspec": {
   "display_name": "Python 3",
   "language": "python",
   "name": "python3"
  },
  "language_info": {
   "codemirror_mode": {
    "name": "ipython",
    "version": 3
   },
   "file_extension": ".py",
   "mimetype": "text/x-python",
   "name": "python",
   "nbconvert_exporter": "python",
   "pygments_lexer": "ipython3",
   "version": "3.8.5"
  }
 },
 "nbformat": 4,
 "nbformat_minor": 4
}
